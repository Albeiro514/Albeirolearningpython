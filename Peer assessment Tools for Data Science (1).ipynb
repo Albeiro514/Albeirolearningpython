{
 "cells": [
  {
   "cell_type": "markdown",
   "id": "a3d7819b",
   "metadata": {},
   "source": [
    "<center>\n",
    "    <img src=\"https://s3-api.us-geo.objectstorage.softlayer.net/cf-courses-data/CognitiveClass/Logos/organization_logo/organization_logo.png\" width=\"300\" alt=\"cognitiveclass.ai logo\"  />\n",
    "</center>"
   ]
  },
  {
   "cell_type": "markdown",
   "id": "aa40db83",
   "metadata": {},
   "source": [
    "<h1>My Jupyter Notebook on IBM Watson Studio</h1>"
   ]
  },
  {
   "cell_type": "markdown",
   "id": "8eb89f63",
   "metadata": {},
   "source": [
    "<p><b>Albeiro Gonzalez</b></p>\n",
    "<p>Service Delivery Manager</p>"
   ]
  },
  {
   "cell_type": "markdown",
   "id": "53b8c6fd",
   "metadata": {},
   "source": [
    "<i>I am currently working as a manager in a e-learning software company. While doing my job last year, I came across the need for real data to make correct decisions, that's when I started learning data analysis. I took the data analyst specialization offered by IBM through Coursera, and that helped me a lot to communicate findings from my data to the stakeholders. Additionally, we are making important and strategic decisions based on that analysis. I don't have a college degree, and one of my challenges is to demonstrate that one can make data science without being a Ph.D. That's why this specialization was so engaging for me, I saw this same description on the course program page, and I got motivated and realized that it is possible. I consider that in technology you can learn almost everything by yourself. As you can probably read from my text, this industry causes a great passion in me because I think education is going to change, and degrees will be adjusted to include autonomous learners.</i>"
   ]
  },
  {
   "cell_type": "markdown",
   "id": "6fd33934",
   "metadata": {},
   "source": [
    "<h3>The following code counts the most used words in the paragraph above</h3>"
   ]
  },
  {
   "cell_type": "code",
   "execution_count": 15,
   "id": "8e954089",
   "metadata": {},
   "outputs": [
    {
     "name": "stdout",
     "output_type": "stream",
     "text": [
      "[('I', 9), ('a', 6), ('to', 6), ('and', 6)]\n"
     ]
    }
   ],
   "source": [
    "from collections import Counter\n",
    "description=\"I am currently working as a manager in a e-learning software company. While doing my job last year, I came across the need for real data to make correct decisions, that's when I started learning data analysis. I took the data analyst specialization offered by IBM through Coursera, and that helped me a lot to communicate findings from my data to the stakeholders. Additionally, we are making important and strategic decisions based on that analysis. I don't have a college degree, and one of my challenges is to demonstrate that one can make data science without being a Ph.D. That's why this specialization was so engaging for me, I saw this same description on the course program page, and I got motivated and realized that it is possible. I consider that in technology you can learn almost everything by yourself. As you can probably read from my text, this industry causes a great passion in me because I think education is going to change, and degrees will be adjusted to include autonomous learners.\"\n",
    "descriptiondf=description.split()\n",
    "Counter = Counter(descriptiondf)\n",
    "most_occur = Counter.most_common(4)\n",
    "print(most_occur)"
   ]
  },
  {
   "cell_type": "markdown",
   "id": "857ec420",
   "metadata": {},
   "source": [
    "<hr><h3>Summary for this <a href=\"https://www.coursera.org/learn/open-source-tools-for-data-science\" target=\"blank\">course</a>\n",
    "</h3></hr>\n",
    "<img src=\"https://image.shutterstock.com/image-illustration/abstract-futuristic-infographic-visual-data-600w-746652745.jpg\" height=\"100\" width=\"100\" align=\"left\"><br><br><br><br>\n",
    "<ul>\n",
    "    <li>Tools for Data Science. Commercial and Open Source Tools</li>\n",
    "            <ol>\n",
    "            <li>Roles in Data Science</li>\n",
    "            <li>Languages used in Data Science.</li>\n",
    "            <li>Types of Data Science tools</li>\n",
    "            <li>Libraries used in Data Science in the different languages</li>\n",
    "            <li>Working with version Control</li>\n",
    "            <li>More and more IBM tools that you can't test</li><br>\n",
    "            </ol>\n",
    "        <li>You can't entirely use IBM lite account. It restricts access after certain use leaving you without testing all the features.</li>\n",
    "    \n",
    "</ul>"
   ]
  },
  {
   "cell_type": "code",
   "execution_count": null,
   "id": "1e49109f",
   "metadata": {},
   "outputs": [],
   "source": []
  }
 ],
 "metadata": {
  "kernelspec": {
   "display_name": "Python 3 (ipykernel)",
   "language": "python",
   "name": "python3"
  },
  "language_info": {
   "codemirror_mode": {
    "name": "ipython",
    "version": 3
   },
   "file_extension": ".py",
   "mimetype": "text/x-python",
   "name": "python",
   "nbconvert_exporter": "python",
   "pygments_lexer": "ipython3",
   "version": "3.9.12"
  }
 },
 "nbformat": 4,
 "nbformat_minor": 5
}
